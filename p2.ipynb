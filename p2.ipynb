{
 "cells": [
  {
   "cell_type": "markdown",
   "id": "92980714",
   "metadata": {},
   "source": [
    "# Handling missing data in csv"
   ]
  },
  {
   "cell_type": "code",
   "execution_count": null,
   "id": "26b7b701",
   "metadata": {},
   "outputs": [],
   "source": []
  }
 ],
 "metadata": {
  "language_info": {
   "name": "python"
  }
 },
 "nbformat": 4,
 "nbformat_minor": 5
}
