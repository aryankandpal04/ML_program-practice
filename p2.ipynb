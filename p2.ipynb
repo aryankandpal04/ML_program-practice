{
 "cells": [
  {
   "cell_type": "markdown",
   "id": "92980714",
   "metadata": {},
   "source": [
    "# Handling missing data in csv"
   ]
  },
  {
   "cell_type": "code",
   "execution_count": 1,
   "id": "26b7b701",
   "metadata": {},
   "outputs": [],
   "source": [
    "import numpy as np\n",
    "import pandas as pd"
   ]
  },
  {
   "cell_type": "code",
   "execution_count": 4,
   "id": "90fc2b13",
   "metadata": {},
   "outputs": [],
   "source": [
    "data = {\n",
    "    'Name' : ['Aryan', np.nan, 'Ayush', 'Arpit'],\n",
    "    'RollNo' : [np.nan, 2, 3, 4],\n",
    "    'Course' : ['BCA', 'MBA', np.nan, 'BBA'],\n",
    "    'CGPA' : [8.8, 9.2, 9.1, np.nan]\n",
    "}"
   ]
  },
  {
   "cell_type": "code",
   "execution_count": 12,
   "id": "b97c30d6",
   "metadata": {},
   "outputs": [
    {
     "name": "stdout",
     "output_type": "stream",
     "text": [
      "    Name  RollNo Course  CGPA\n",
      "0  Aryan     NaN    BCA   8.8\n",
      "1    NaN     2.0    MBA   9.2\n",
      "2  Ayush     3.0    NaN   9.1\n",
      "3  Arpit     4.0    BBA   NaN\n"
     ]
    }
   ],
   "source": [
    "df = pd.DataFrame(data)\n",
    "print(df)"
   ]
  },
  {
   "cell_type": "code",
   "execution_count": 13,
   "id": "f6eeccde",
   "metadata": {},
   "outputs": [
    {
     "data": {
      "text/html": [
       "<div>\n",
       "<style scoped>\n",
       "    .dataframe tbody tr th:only-of-type {\n",
       "        vertical-align: middle;\n",
       "    }\n",
       "\n",
       "    .dataframe tbody tr th {\n",
       "        vertical-align: top;\n",
       "    }\n",
       "\n",
       "    .dataframe thead th {\n",
       "        text-align: right;\n",
       "    }\n",
       "</style>\n",
       "<table border=\"1\" class=\"dataframe\">\n",
       "  <thead>\n",
       "    <tr style=\"text-align: right;\">\n",
       "      <th></th>\n",
       "      <th>Name</th>\n",
       "      <th>RollNo</th>\n",
       "      <th>Course</th>\n",
       "      <th>CGPA</th>\n",
       "    </tr>\n",
       "  </thead>\n",
       "  <tbody>\n",
       "    <tr>\n",
       "      <th>0</th>\n",
       "      <td>False</td>\n",
       "      <td>True</td>\n",
       "      <td>False</td>\n",
       "      <td>False</td>\n",
       "    </tr>\n",
       "    <tr>\n",
       "      <th>1</th>\n",
       "      <td>True</td>\n",
       "      <td>False</td>\n",
       "      <td>False</td>\n",
       "      <td>False</td>\n",
       "    </tr>\n",
       "    <tr>\n",
       "      <th>2</th>\n",
       "      <td>False</td>\n",
       "      <td>False</td>\n",
       "      <td>True</td>\n",
       "      <td>False</td>\n",
       "    </tr>\n",
       "    <tr>\n",
       "      <th>3</th>\n",
       "      <td>False</td>\n",
       "      <td>False</td>\n",
       "      <td>False</td>\n",
       "      <td>True</td>\n",
       "    </tr>\n",
       "  </tbody>\n",
       "</table>\n",
       "</div>"
      ],
      "text/plain": [
       "    Name  RollNo  Course   CGPA\n",
       "0  False    True   False  False\n",
       "1   True   False   False  False\n",
       "2  False   False    True  False\n",
       "3  False   False   False   True"
      ]
     },
     "execution_count": 13,
     "metadata": {},
     "output_type": "execute_result"
    }
   ],
   "source": [
    "df.isnull()"
   ]
  },
  {
   "cell_type": "code",
   "execution_count": 20,
   "id": "797e8b82",
   "metadata": {},
   "outputs": [
    {
     "name": "stdout",
     "output_type": "stream",
     "text": [
      "    Name  RollNo Course      CGPA\n",
      "0  Aryan     3.0    BCA  8.800000\n",
      "1    NaN     2.0    MBA  9.200000\n",
      "2  Ayush     3.0    NaN  9.100000\n",
      "3  Arpit     4.0    BBA  9.033333\n"
     ]
    }
   ],
   "source": [
    "df['RollNo'].fillna(df['RollNo'].mean(), inplace = True)\n",
    "df['CGPA'].fillna(df['CGPA'].median(), inplace = True)\n",
    "print(df)"
   ]
  },
  {
   "cell_type": "code",
   "execution_count": 23,
   "id": "94db4eef",
   "metadata": {},
   "outputs": [
    {
     "name": "stdout",
     "output_type": "stream",
     "text": [
      "    Name  RollNo Course      CGPA\n",
      "0  Aryan     3.0    BCA  8.800000\n",
      "1  Arpit     2.0    MBA  9.200000\n",
      "2  Ayush     3.0    BBA  9.100000\n",
      "3  Arpit     4.0    BBA  9.033333\n"
     ]
    }
   ],
   "source": [
    "df['Name'].fillna(df['Name'].mode()[0], inplace = True)\n",
    "df['Course'].fillna(df['Course'].mode()[0], inplace = True)\n",
    "print(df)"
   ]
  },
  {
   "cell_type": "code",
   "execution_count": null,
   "id": "81215c66",
   "metadata": {},
   "outputs": [],
   "source": []
  }
 ],
 "metadata": {
  "kernelspec": {
   "display_name": "Python 3",
   "language": "python",
   "name": "python3"
  },
  "language_info": {
   "codemirror_mode": {
    "name": "ipython",
    "version": 3
   },
   "file_extension": ".py",
   "mimetype": "text/x-python",
   "name": "python",
   "nbconvert_exporter": "python",
   "pygments_lexer": "ipython3",
   "version": "3.12.6"
  }
 },
 "nbformat": 4,
 "nbformat_minor": 5
}
