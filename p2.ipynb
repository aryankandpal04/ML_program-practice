{
 "cells": [
  {
   "cell_type": "markdown",
   "id": "92980714",
   "metadata": {},
   "source": [
    "# Handling missing data in csv"
   ]
  },
  {
   "cell_type": "code",
   "execution_count": 1,
   "id": "26b7b701",
   "metadata": {},
   "outputs": [],
   "source": [
    "import numpy as np\n",
    "import pandas as pd"
   ]
  },
  {
   "cell_type": "code",
   "execution_count": 4,
   "id": "90fc2b13",
   "metadata": {},
   "outputs": [],
   "source": [
    "data = {\n",
    "    'Name' : ['Aryan', np.nan, 'Ayush', 'Arpit'],\n",
    "    'RollNo' : [np.nan, 2, 3, 4],\n",
    "    'Course' : ['BCA', 'MBA', np.nan, 'BBA'],\n",
    "    'CGPA' : [8.8, 9.2, 9.1, np.nan]\n",
    "}"
   ]
  },
  {
   "cell_type": "code",
   "execution_count": null,
   "id": "b97c30d6",
   "metadata": {},
   "outputs": [],
   "source": []
  }
 ],
 "metadata": {
  "kernelspec": {
   "display_name": "Python 3",
   "language": "python",
   "name": "python3"
  },
  "language_info": {
   "codemirror_mode": {
    "name": "ipython",
    "version": 3
   },
   "file_extension": ".py",
   "mimetype": "text/x-python",
   "name": "python",
   "nbconvert_exporter": "python",
   "pygments_lexer": "ipython3",
   "version": "3.12.6"
  }
 },
 "nbformat": 4,
 "nbformat_minor": 5
}
